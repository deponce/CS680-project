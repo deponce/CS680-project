{
 "cells": [
  {
   "cell_type": "code",
   "execution_count": 1,
   "metadata": {
    "colab": {
     "base_uri": "https://localhost:8080/",
     "height": 35
    },
    "id": "SSK9j1V6wRL_",
    "outputId": "5c588fa4-4a49-401e-e4bf-24903b7e6a92"
   },
   "outputs": [],
   "source": [
    "import torch\n",
    "torch.__version__\n",
    "CUDA_VISIBLE_DEVICES=2"
   ]
  },
  {
   "cell_type": "code",
   "execution_count": 2,
   "metadata": {
    "colab": {
     "base_uri": "https://localhost:8080/"
    },
    "id": "WhKQE4f6wRMF",
    "outputId": "788105da-7db1-45a0-9353-9c4cb9a02dd9"
   },
   "outputs": [],
   "source": [
    "#from google.colab import drive\n",
    "#drive.mount(\"/content/drive\")\n",
    "#import os\n",
    "#os.chdir(os.path.join(\"/\", \"content\", \"drive\", \"MyDrive\", \"Colab Notebooks\"))"
   ]
  },
  {
   "cell_type": "code",
   "execution_count": 3,
   "metadata": {
    "colab": {
     "base_uri": "https://localhost:8080/"
    },
    "id": "bSAcm0T0wgBe",
    "outputId": "a1d8afa7-859a-4893-8ed5-3a0aec1e4948"
   },
   "outputs": [
    {
     "name": "stdout",
     "output_type": "stream",
     "text": [
      "Requirement already up-to-date: spacy[cuda102] in /home/deponce/anaconda3/lib/python3.8/site-packages (3.1.1)\n",
      "Requirement already satisfied, skipping upgrade: jinja2 in /home/deponce/anaconda3/lib/python3.8/site-packages (from spacy[cuda102]) (2.11.2)\n",
      "Requirement already satisfied, skipping upgrade: requests<3.0.0,>=2.13.0 in /home/deponce/.local/lib/python3.8/site-packages (from spacy[cuda102]) (2.25.1)\n",
      "Requirement already satisfied, skipping upgrade: setuptools in /home/deponce/anaconda3/lib/python3.8/site-packages (from spacy[cuda102]) (50.3.1.post20201107)\n",
      "Requirement already satisfied, skipping upgrade: srsly<3.0.0,>=2.4.1 in /home/deponce/anaconda3/lib/python3.8/site-packages (from spacy[cuda102]) (2.4.1)\n",
      "Requirement already satisfied, skipping upgrade: typer<0.4.0,>=0.3.0 in /home/deponce/anaconda3/lib/python3.8/site-packages (from spacy[cuda102]) (0.3.2)\n",
      "Requirement already satisfied, skipping upgrade: murmurhash<1.1.0,>=0.28.0 in /home/deponce/anaconda3/lib/python3.8/site-packages (from spacy[cuda102]) (1.0.5)\n",
      "Requirement already satisfied, skipping upgrade: catalogue<2.1.0,>=2.0.4 in /home/deponce/anaconda3/lib/python3.8/site-packages (from spacy[cuda102]) (2.0.4)\n",
      "Requirement already satisfied, skipping upgrade: thinc<8.1.0,>=8.0.8 in /home/deponce/anaconda3/lib/python3.8/site-packages (from spacy[cuda102]) (8.0.8)\n",
      "Requirement already satisfied, skipping upgrade: pydantic!=1.8,!=1.8.1,<1.9.0,>=1.7.4 in /home/deponce/anaconda3/lib/python3.8/site-packages (from spacy[cuda102]) (1.7.4)\n",
      "Requirement already satisfied, skipping upgrade: wasabi<1.1.0,>=0.8.1 in /home/deponce/anaconda3/lib/python3.8/site-packages (from spacy[cuda102]) (0.8.2)\n",
      "Requirement already satisfied, skipping upgrade: tqdm<5.0.0,>=4.38.0 in /home/deponce/.local/lib/python3.8/site-packages (from spacy[cuda102]) (4.56.0)\n",
      "Requirement already satisfied, skipping upgrade: cymem<2.1.0,>=2.0.2 in /home/deponce/anaconda3/lib/python3.8/site-packages (from spacy[cuda102]) (2.0.5)\n",
      "Requirement already satisfied, skipping upgrade: blis<0.8.0,>=0.4.0 in /home/deponce/anaconda3/lib/python3.8/site-packages (from spacy[cuda102]) (0.7.4)\n",
      "Requirement already satisfied, skipping upgrade: pathy>=0.3.5 in /home/deponce/anaconda3/lib/python3.8/site-packages (from spacy[cuda102]) (0.6.0)\n",
      "Requirement already satisfied, skipping upgrade: spacy-legacy<3.1.0,>=3.0.7 in /home/deponce/anaconda3/lib/python3.8/site-packages (from spacy[cuda102]) (3.0.8)\n",
      "Requirement already satisfied, skipping upgrade: preshed<3.1.0,>=3.0.2 in /home/deponce/anaconda3/lib/python3.8/site-packages (from spacy[cuda102]) (3.0.5)\n",
      "Requirement already satisfied, skipping upgrade: packaging>=20.0 in /home/deponce/anaconda3/lib/python3.8/site-packages (from spacy[cuda102]) (20.4)\n",
      "Requirement already satisfied, skipping upgrade: numpy>=1.15.0 in /home/deponce/.local/lib/python3.8/site-packages (from spacy[cuda102]) (1.19.5)\n",
      "Requirement already satisfied, skipping upgrade: cupy-cuda102<10.0.0,>=5.0.0b4; extra == \"cuda102\" in /home/deponce/anaconda3/lib/python3.8/site-packages (from spacy[cuda102]) (9.2.0)\n",
      "Requirement already satisfied, skipping upgrade: MarkupSafe>=0.23 in /home/deponce/anaconda3/lib/python3.8/site-packages (from jinja2->spacy[cuda102]) (1.1.1)\n",
      "Requirement already satisfied, skipping upgrade: idna<3,>=2.5 in /home/deponce/.local/lib/python3.8/site-packages (from requests<3.0.0,>=2.13.0->spacy[cuda102]) (2.10)\n",
      "Requirement already satisfied, skipping upgrade: chardet<5,>=3.0.2 in /home/deponce/.local/lib/python3.8/site-packages (from requests<3.0.0,>=2.13.0->spacy[cuda102]) (4.0.0)\n",
      "Requirement already satisfied, skipping upgrade: urllib3<1.27,>=1.21.1 in /home/deponce/.local/lib/python3.8/site-packages (from requests<3.0.0,>=2.13.0->spacy[cuda102]) (1.26.3)\n",
      "Requirement already satisfied, skipping upgrade: certifi>=2017.4.17 in /home/deponce/anaconda3/lib/python3.8/site-packages (from requests<3.0.0,>=2.13.0->spacy[cuda102]) (2020.6.20)\n",
      "Requirement already satisfied, skipping upgrade: click<7.2.0,>=7.1.1 in /home/deponce/anaconda3/lib/python3.8/site-packages (from typer<0.4.0,>=0.3.0->spacy[cuda102]) (7.1.2)\n",
      "Requirement already satisfied, skipping upgrade: smart-open<6.0.0,>=5.0.0 in /home/deponce/anaconda3/lib/python3.8/site-packages (from pathy>=0.3.5->spacy[cuda102]) (5.1.0)\n",
      "Requirement already satisfied, skipping upgrade: pyparsing>=2.0.2 in /home/deponce/anaconda3/lib/python3.8/site-packages (from packaging>=20.0->spacy[cuda102]) (2.4.7)\n",
      "Requirement already satisfied, skipping upgrade: six in /home/deponce/.local/lib/python3.8/site-packages (from packaging>=20.0->spacy[cuda102]) (1.15.0)\n",
      "Requirement already satisfied, skipping upgrade: fastrlock>=0.5 in /home/deponce/anaconda3/lib/python3.8/site-packages (from cupy-cuda102<10.0.0,>=5.0.0b4; extra == \"cuda102\"->spacy[cuda102]) (0.6)\n",
      "2021-07-28 20:23:12.294298: I tensorflow/stream_executor/platform/default/dso_loader.cc:49] Successfully opened dynamic library libcudart.so.11.0\n",
      "Requirement already satisfied: en-core-web-sm==3.1.0 from https://github.com/explosion/spacy-models/releases/download/en_core_web_sm-3.1.0/en_core_web_sm-3.1.0-py3-none-any.whl#egg=en_core_web_sm==3.1.0 in /home/deponce/anaconda3/lib/python3.8/site-packages (3.1.0)\n",
      "Requirement already satisfied: spacy<3.2.0,>=3.1.0 in /home/deponce/anaconda3/lib/python3.8/site-packages (from en-core-web-sm==3.1.0) (3.1.1)\n",
      "Requirement already satisfied: pathy>=0.3.5 in /home/deponce/anaconda3/lib/python3.8/site-packages (from spacy<3.2.0,>=3.1.0->en-core-web-sm==3.1.0) (0.6.0)\n",
      "Requirement already satisfied: numpy>=1.15.0 in /home/deponce/.local/lib/python3.8/site-packages (from spacy<3.2.0,>=3.1.0->en-core-web-sm==3.1.0) (1.19.5)\n",
      "Requirement already satisfied: thinc<8.1.0,>=8.0.8 in /home/deponce/anaconda3/lib/python3.8/site-packages (from spacy<3.2.0,>=3.1.0->en-core-web-sm==3.1.0) (8.0.8)\n",
      "Requirement already satisfied: srsly<3.0.0,>=2.4.1 in /home/deponce/anaconda3/lib/python3.8/site-packages (from spacy<3.2.0,>=3.1.0->en-core-web-sm==3.1.0) (2.4.1)\n",
      "Requirement already satisfied: typer<0.4.0,>=0.3.0 in /home/deponce/anaconda3/lib/python3.8/site-packages (from spacy<3.2.0,>=3.1.0->en-core-web-sm==3.1.0) (0.3.2)\n",
      "Requirement already satisfied: tqdm<5.0.0,>=4.38.0 in /home/deponce/.local/lib/python3.8/site-packages (from spacy<3.2.0,>=3.1.0->en-core-web-sm==3.1.0) (4.56.0)\n",
      "Requirement already satisfied: jinja2 in /home/deponce/anaconda3/lib/python3.8/site-packages (from spacy<3.2.0,>=3.1.0->en-core-web-sm==3.1.0) (2.11.2)\n",
      "Requirement already satisfied: packaging>=20.0 in /home/deponce/anaconda3/lib/python3.8/site-packages (from spacy<3.2.0,>=3.1.0->en-core-web-sm==3.1.0) (20.4)\n",
      "Requirement already satisfied: wasabi<1.1.0,>=0.8.1 in /home/deponce/anaconda3/lib/python3.8/site-packages (from spacy<3.2.0,>=3.1.0->en-core-web-sm==3.1.0) (0.8.2)\n",
      "Requirement already satisfied: spacy-legacy<3.1.0,>=3.0.7 in /home/deponce/anaconda3/lib/python3.8/site-packages (from spacy<3.2.0,>=3.1.0->en-core-web-sm==3.1.0) (3.0.8)\n",
      "Requirement already satisfied: murmurhash<1.1.0,>=0.28.0 in /home/deponce/anaconda3/lib/python3.8/site-packages (from spacy<3.2.0,>=3.1.0->en-core-web-sm==3.1.0) (1.0.5)\n",
      "Requirement already satisfied: setuptools in /home/deponce/anaconda3/lib/python3.8/site-packages (from spacy<3.2.0,>=3.1.0->en-core-web-sm==3.1.0) (50.3.1.post20201107)\n",
      "Requirement already satisfied: pydantic!=1.8,!=1.8.1,<1.9.0,>=1.7.4 in /home/deponce/anaconda3/lib/python3.8/site-packages (from spacy<3.2.0,>=3.1.0->en-core-web-sm==3.1.0) (1.7.4)\n",
      "Requirement already satisfied: cymem<2.1.0,>=2.0.2 in /home/deponce/anaconda3/lib/python3.8/site-packages (from spacy<3.2.0,>=3.1.0->en-core-web-sm==3.1.0) (2.0.5)\n",
      "Requirement already satisfied: catalogue<2.1.0,>=2.0.4 in /home/deponce/anaconda3/lib/python3.8/site-packages (from spacy<3.2.0,>=3.1.0->en-core-web-sm==3.1.0) (2.0.4)\n",
      "Requirement already satisfied: blis<0.8.0,>=0.4.0 in /home/deponce/anaconda3/lib/python3.8/site-packages (from spacy<3.2.0,>=3.1.0->en-core-web-sm==3.1.0) (0.7.4)\n",
      "Requirement already satisfied: requests<3.0.0,>=2.13.0 in /home/deponce/.local/lib/python3.8/site-packages (from spacy<3.2.0,>=3.1.0->en-core-web-sm==3.1.0) (2.25.1)\n",
      "Requirement already satisfied: preshed<3.1.0,>=3.0.2 in /home/deponce/anaconda3/lib/python3.8/site-packages (from spacy<3.2.0,>=3.1.0->en-core-web-sm==3.1.0) (3.0.5)\n",
      "Requirement already satisfied: smart-open<6.0.0,>=5.0.0 in /home/deponce/anaconda3/lib/python3.8/site-packages (from pathy>=0.3.5->spacy<3.2.0,>=3.1.0->en-core-web-sm==3.1.0) (5.1.0)\n",
      "Requirement already satisfied: click<7.2.0,>=7.1.1 in /home/deponce/anaconda3/lib/python3.8/site-packages (from typer<0.4.0,>=0.3.0->spacy<3.2.0,>=3.1.0->en-core-web-sm==3.1.0) (7.1.2)\n",
      "Requirement already satisfied: MarkupSafe>=0.23 in /home/deponce/anaconda3/lib/python3.8/site-packages (from jinja2->spacy<3.2.0,>=3.1.0->en-core-web-sm==3.1.0) (1.1.1)\n",
      "Requirement already satisfied: six in /home/deponce/.local/lib/python3.8/site-packages (from packaging>=20.0->spacy<3.2.0,>=3.1.0->en-core-web-sm==3.1.0) (1.15.0)\n",
      "Requirement already satisfied: pyparsing>=2.0.2 in /home/deponce/anaconda3/lib/python3.8/site-packages (from packaging>=20.0->spacy<3.2.0,>=3.1.0->en-core-web-sm==3.1.0) (2.4.7)\n",
      "Requirement already satisfied: certifi>=2017.4.17 in /home/deponce/anaconda3/lib/python3.8/site-packages (from requests<3.0.0,>=2.13.0->spacy<3.2.0,>=3.1.0->en-core-web-sm==3.1.0) (2020.6.20)\n"
     ]
    },
    {
     "name": "stdout",
     "output_type": "stream",
     "text": [
      "Requirement already satisfied: idna<3,>=2.5 in /home/deponce/.local/lib/python3.8/site-packages (from requests<3.0.0,>=2.13.0->spacy<3.2.0,>=3.1.0->en-core-web-sm==3.1.0) (2.10)\n",
      "Requirement already satisfied: chardet<5,>=3.0.2 in /home/deponce/.local/lib/python3.8/site-packages (from requests<3.0.0,>=2.13.0->spacy<3.2.0,>=3.1.0->en-core-web-sm==3.1.0) (4.0.0)\n",
      "Requirement already satisfied: urllib3<1.27,>=1.21.1 in /home/deponce/.local/lib/python3.8/site-packages (from requests<3.0.0,>=2.13.0->spacy<3.2.0,>=3.1.0->en-core-web-sm==3.1.0) (1.26.3)\n",
      "\u001b[38;5;2m✔ Download and installation successful\u001b[0m\n",
      "You can now load the package via spacy.load('en_core_web_sm')\n",
      "2021-07-28 20:23:16.373858: I tensorflow/stream_executor/platform/default/dso_loader.cc:49] Successfully opened dynamic library libcudart.so.11.0\n",
      "Requirement already satisfied: zh-core-web-sm==3.1.0 from https://github.com/explosion/spacy-models/releases/download/zh_core_web_sm-3.1.0/zh_core_web_sm-3.1.0-py3-none-any.whl#egg=zh_core_web_sm==3.1.0 in /home/deponce/anaconda3/lib/python3.8/site-packages (3.1.0)\n",
      "Requirement already satisfied: spacy<3.2.0,>=3.1.0 in /home/deponce/anaconda3/lib/python3.8/site-packages (from zh-core-web-sm==3.1.0) (3.1.1)\n",
      "Requirement already satisfied: spacy-pkuseg<0.1.0,>=0.0.27 in /home/deponce/anaconda3/lib/python3.8/site-packages (from zh-core-web-sm==3.1.0) (0.0.28)\n",
      "Requirement already satisfied: blis<0.8.0,>=0.4.0 in /home/deponce/anaconda3/lib/python3.8/site-packages (from spacy<3.2.0,>=3.1.0->zh-core-web-sm==3.1.0) (0.7.4)\n",
      "Requirement already satisfied: requests<3.0.0,>=2.13.0 in /home/deponce/.local/lib/python3.8/site-packages (from spacy<3.2.0,>=3.1.0->zh-core-web-sm==3.1.0) (2.25.1)\n",
      "Requirement already satisfied: pydantic!=1.8,!=1.8.1,<1.9.0,>=1.7.4 in /home/deponce/anaconda3/lib/python3.8/site-packages (from spacy<3.2.0,>=3.1.0->zh-core-web-sm==3.1.0) (1.7.4)\n",
      "Requirement already satisfied: cymem<2.1.0,>=2.0.2 in /home/deponce/anaconda3/lib/python3.8/site-packages (from spacy<3.2.0,>=3.1.0->zh-core-web-sm==3.1.0) (2.0.5)\n",
      "Requirement already satisfied: preshed<3.1.0,>=3.0.2 in /home/deponce/anaconda3/lib/python3.8/site-packages (from spacy<3.2.0,>=3.1.0->zh-core-web-sm==3.1.0) (3.0.5)\n",
      "Requirement already satisfied: tqdm<5.0.0,>=4.38.0 in /home/deponce/.local/lib/python3.8/site-packages (from spacy<3.2.0,>=3.1.0->zh-core-web-sm==3.1.0) (4.56.0)\n",
      "Requirement already satisfied: spacy-legacy<3.1.0,>=3.0.7 in /home/deponce/anaconda3/lib/python3.8/site-packages (from spacy<3.2.0,>=3.1.0->zh-core-web-sm==3.1.0) (3.0.8)\n",
      "Requirement already satisfied: srsly<3.0.0,>=2.4.1 in /home/deponce/anaconda3/lib/python3.8/site-packages (from spacy<3.2.0,>=3.1.0->zh-core-web-sm==3.1.0) (2.4.1)\n",
      "Requirement already satisfied: numpy>=1.15.0 in /home/deponce/.local/lib/python3.8/site-packages (from spacy<3.2.0,>=3.1.0->zh-core-web-sm==3.1.0) (1.19.5)\n",
      "Requirement already satisfied: setuptools in /home/deponce/anaconda3/lib/python3.8/site-packages (from spacy<3.2.0,>=3.1.0->zh-core-web-sm==3.1.0) (50.3.1.post20201107)\n",
      "Requirement already satisfied: typer<0.4.0,>=0.3.0 in /home/deponce/anaconda3/lib/python3.8/site-packages (from spacy<3.2.0,>=3.1.0->zh-core-web-sm==3.1.0) (0.3.2)\n",
      "Requirement already satisfied: wasabi<1.1.0,>=0.8.1 in /home/deponce/anaconda3/lib/python3.8/site-packages (from spacy<3.2.0,>=3.1.0->zh-core-web-sm==3.1.0) (0.8.2)\n",
      "Requirement already satisfied: murmurhash<1.1.0,>=0.28.0 in /home/deponce/anaconda3/lib/python3.8/site-packages (from spacy<3.2.0,>=3.1.0->zh-core-web-sm==3.1.0) (1.0.5)\n",
      "Requirement already satisfied: catalogue<2.1.0,>=2.0.4 in /home/deponce/anaconda3/lib/python3.8/site-packages (from spacy<3.2.0,>=3.1.0->zh-core-web-sm==3.1.0) (2.0.4)\n",
      "Requirement already satisfied: pathy>=0.3.5 in /home/deponce/anaconda3/lib/python3.8/site-packages (from spacy<3.2.0,>=3.1.0->zh-core-web-sm==3.1.0) (0.6.0)\n",
      "Requirement already satisfied: packaging>=20.0 in /home/deponce/anaconda3/lib/python3.8/site-packages (from spacy<3.2.0,>=3.1.0->zh-core-web-sm==3.1.0) (20.4)\n",
      "Requirement already satisfied: thinc<8.1.0,>=8.0.8 in /home/deponce/anaconda3/lib/python3.8/site-packages (from spacy<3.2.0,>=3.1.0->zh-core-web-sm==3.1.0) (8.0.8)\n",
      "Requirement already satisfied: jinja2 in /home/deponce/anaconda3/lib/python3.8/site-packages (from spacy<3.2.0,>=3.1.0->zh-core-web-sm==3.1.0) (2.11.2)\n",
      "Requirement already satisfied: cython>=0.25 in /home/deponce/anaconda3/lib/python3.8/site-packages (from spacy-pkuseg<0.1.0,>=0.0.27->zh-core-web-sm==3.1.0) (0.29.21)\n",
      "Requirement already satisfied: urllib3<1.27,>=1.21.1 in /home/deponce/.local/lib/python3.8/site-packages (from requests<3.0.0,>=2.13.0->spacy<3.2.0,>=3.1.0->zh-core-web-sm==3.1.0) (1.26.3)\n",
      "Requirement already satisfied: chardet<5,>=3.0.2 in /home/deponce/.local/lib/python3.8/site-packages (from requests<3.0.0,>=2.13.0->spacy<3.2.0,>=3.1.0->zh-core-web-sm==3.1.0) (4.0.0)\n",
      "Requirement already satisfied: idna<3,>=2.5 in /home/deponce/.local/lib/python3.8/site-packages (from requests<3.0.0,>=2.13.0->spacy<3.2.0,>=3.1.0->zh-core-web-sm==3.1.0) (2.10)\n",
      "Requirement already satisfied: certifi>=2017.4.17 in /home/deponce/anaconda3/lib/python3.8/site-packages (from requests<3.0.0,>=2.13.0->spacy<3.2.0,>=3.1.0->zh-core-web-sm==3.1.0) (2020.6.20)\n",
      "Requirement already satisfied: click<7.2.0,>=7.1.1 in /home/deponce/anaconda3/lib/python3.8/site-packages (from typer<0.4.0,>=0.3.0->spacy<3.2.0,>=3.1.0->zh-core-web-sm==3.1.0) (7.1.2)\n",
      "Requirement already satisfied: smart-open<6.0.0,>=5.0.0 in /home/deponce/anaconda3/lib/python3.8/site-packages (from pathy>=0.3.5->spacy<3.2.0,>=3.1.0->zh-core-web-sm==3.1.0) (5.1.0)\n",
      "Requirement already satisfied: six in /home/deponce/.local/lib/python3.8/site-packages (from packaging>=20.0->spacy<3.2.0,>=3.1.0->zh-core-web-sm==3.1.0) (1.15.0)\n",
      "Requirement already satisfied: pyparsing>=2.0.2 in /home/deponce/anaconda3/lib/python3.8/site-packages (from packaging>=20.0->spacy<3.2.0,>=3.1.0->zh-core-web-sm==3.1.0) (2.4.7)\n",
      "Requirement already satisfied: MarkupSafe>=0.23 in /home/deponce/anaconda3/lib/python3.8/site-packages (from jinja2->spacy<3.2.0,>=3.1.0->zh-core-web-sm==3.1.0) (1.1.1)\n",
      "\u001b[38;5;2m✔ Download and installation successful\u001b[0m\n",
      "You can now load the package via spacy.load('zh_core_web_sm')\n"
     ]
    }
   ],
   "source": [
    "!pip install -U spacy[cuda102]\n",
    "!python -m spacy download en_core_web_sm\n",
    "!python -m spacy download zh_core_web_sm"
   ]
  },
  {
   "cell_type": "code",
   "execution_count": 4,
   "metadata": {
    "id": "GEytdUzXwRMG"
   },
   "outputs": [],
   "source": [
    "from zh_dataset import ZhEnDataset, BaggingDataset"
   ]
  },
  {
   "cell_type": "markdown",
   "metadata": {
    "id": "g3gPZgo4wRMG"
   },
   "source": [
    "\n",
    "Language Translation with nn.Transformer and torchtext\n",
    "======================================================\n",
    "\n",
    "This tutorial shows, how to train a translation model from scratch using\n",
    "Transformer. We will be using `Multi30k <http://www.statmt.org/wmt16/multimodal-task.html#task1>`__ \n",
    "dataset to train a German to English translation model.\n",
    "\n"
   ]
  },
  {
   "cell_type": "markdown",
   "metadata": {
    "id": "qHoHXyajwRMH"
   },
   "source": [
    "Data Sourcing and Processing\n",
    "----------------------------\n",
    "\n",
    "`torchtext library <https://pytorch.org/text/stable/>`__ has utilities for creating datasets that can be easily\n",
    "iterated through for the purposes of creating a language translation\n",
    "model. In this example, we show how to use torchtext's inbuilt datasets, \n",
    "tokenize a raw text sentence, build vocabulary, and numericalize tokens into tensor. We will use\n",
    "`Multi30k dataset from torchtext library <https://pytorch.org/text/stable/datasets.html#multi30k>`__\n",
    "that yields a pair of source-target raw sentences. \n",
    "\n",
    "\n",
    "\n"
   ]
  },
  {
   "cell_type": "code",
   "execution_count": 5,
   "metadata": {
    "id": "mmo8vuj1wRMH"
   },
   "outputs": [],
   "source": [
    "from torchtext.data.utils import get_tokenizer\n",
    "from torchtext.vocab import build_vocab_from_iterator\n",
    "from torchtext.datasets import Multi30k\n",
    "from typing import Iterable, List\n",
    "\n",
    "\n",
    "SRC_LANGUAGE = 'en'\n",
    "TGT_LANGUAGE = 'zh'\n",
    "\n",
    "# Place-holders\n",
    "token_transform = {}\n",
    "vocab_transform = {}\n",
    "\n",
    "\n",
    "# Create source and target language tokenizer. Make sure to install the dependencies.\n",
    "# pip install -U spacy\n",
    "# python -m spacy download en_core_web_sm\n",
    "# python -m spacy download de_core_news_sm\n",
    "token_transform[SRC_LANGUAGE] = get_tokenizer('spacy', language='en_core_web_sm')\n",
    "token_transform[TGT_LANGUAGE] = get_tokenizer('spacy', language='zh_core_web_sm')\n",
    "\n",
    "\n",
    "# helper function to yield list of tokens\n",
    "def yield_tokens(data_iter: Iterable, language: str) -> List[str]:\n",
    "    language_index = {SRC_LANGUAGE: 0, TGT_LANGUAGE: 1}\n",
    "\n",
    "    for data_sample in data_iter:\n",
    "        yield token_transform[language](data_sample[language_index[language]])\n",
    "\n",
    "# Define special symbols and indices\n",
    "UNK_IDX, PAD_IDX, BOS_IDX, EOS_IDX = 0, 1, 2, 3\n",
    "# Make sure the tokens are in order of their indices to properly insert them in vocab\n",
    "special_symbols = ['<unk>', '<pad>', '<bos>', '<eos>']\n",
    " \n",
    "for ln in [SRC_LANGUAGE, TGT_LANGUAGE]:\n",
    "    # Training data Iterator \n",
    "    train_iter = ZhEnDataset(split='train', start=0, end=150000)\n",
    "    # Create torchtext's Vocab object \n",
    "    vocab_transform[ln] = build_vocab_from_iterator(yield_tokens(train_iter, ln),\n",
    "                                                    # min_freq=1,\n",
    "                                                    min_freq=3,\n",
    "                                                    specials=special_symbols,\n",
    "                                                    special_first=True)\n",
    "# Set UNK_IDX as the default index. This index is returned when the token is not found. \n",
    "# If not set, it throws RuntimeError when the queried token is not found in the Vocabulary. \n",
    "for ln in [SRC_LANGUAGE, TGT_LANGUAGE]:\n",
    "  vocab_transform[ln].set_default_index(UNK_IDX)"
   ]
  },
  {
   "cell_type": "markdown",
   "metadata": {
    "id": "WsU-FWrzwRMJ"
   },
   "source": [
    "Seq2Seq Network using Transformer\n",
    "---------------------------------\n",
    "\n",
    "Transformer is a Seq2Seq model introduced in `“Attention is all you\n",
    "need” <https://papers.nips.cc/paper/2017/file/3f5ee243547dee91fbd053c1c4a845aa-Paper.pdf>`__\n",
    "paper for solving machine translation tasks. \n",
    "Below, we will create a Seq2Seq network that uses Transformer. The network\n",
    "consists of three parts. First part is the embedding layer. This layer converts tensor of input indices\n",
    "into corresponding tensor of input embeddings. These embedding are further augmented with positional\n",
    "encodings to provide position information of input tokens to the model. The second part is the \n",
    "actual `Transformer <https://pytorch.org/docs/stable/generated/torch.nn.Transformer.html>`__ model. \n",
    "Finally, the output of Transformer model is passed through linear layer\n",
    "that give un-normalized probabilities for each token in the target language. \n",
    "\n",
    "\n"
   ]
  },
  {
   "cell_type": "code",
   "execution_count": 6,
   "metadata": {},
   "outputs": [],
   "source": [
    "from torch import Tensor\n",
    "import torch\n",
    "import torch.nn as nn\n",
    "from torch.nn import Transformer\n",
    "import math\n",
    "DEVICE = torch.device('cuda:0' if torch.cuda.is_available() else 'cpu')\n",
    "\n",
    "class PositionEmbedding(nn.Module):\n",
    "    def __init__(self,\n",
    "                 emb_size: int,\n",
    "                 maxlen: int = 5000):\n",
    "        super(PositionEmbedding, self).__init__()\n",
    "        den = torch.exp(- torch.arange(0, emb_size, 2)* math.log(10000) / emb_size)\n",
    "        pos = torch.arange(0, maxlen).reshape(maxlen, 1)\n",
    "        pos_embedding = nn.Parameter(torch.Tensor(maxlen, emb_size))\n",
    "        pos_embedding = pos_embedding.unsqueeze(-2)\n",
    "        \n",
    "        self.rfegister_buffer('pos_embedding', pos_embedding)\n",
    "        torch.nn.init.xavier_normal_(pos_embedding)\n",
    "\n",
    "    def forward(self, token_embedding: Tensor):\n",
    "        return token_embedding + self.pos_embedding[:token_embedding.size(0), :]"
   ]
  },
  {
   "cell_type": "code",
   "execution_count": 7,
   "metadata": {
    "id": "SFo80khJwRMK"
   },
   "outputs": [],
   "source": [
    "from torch import Tensor\n",
    "import torch\n",
    "import torch.nn as nn\n",
    "from torch.nn import Transformer\n",
    "import math\n",
    "DEVICE = torch.device('cuda' if torch.cuda.is_available() else 'cpu')\n",
    "\n",
    "# helper Module that adds positional encoding to the token embedding to introduce a notion of word order.\n",
    "class PositionalEncoding(nn.Module):\n",
    "    def __init__(self,\n",
    "                 emb_size: int,\n",
    "                 dropout: float,\n",
    "                 maxlen: int = 5000):\n",
    "        super(PositionalEncoding, self).__init__()\n",
    "        den = torch.exp(- torch.arange(0, emb_size, 2)* math.log(10000) / emb_size)\n",
    "        pos = torch.arange(0, maxlen).reshape(maxlen, 1)\n",
    "        pos_embedding = torch.zeros((maxlen, emb_size))\n",
    "        pos_embedding[:, 0::2] = torch.sin(pos * den)\n",
    "        pos_embedding[:, 1::2] = torch.cos(pos * den)\n",
    "        pos_embedding = pos_embedding.unsqueeze(-2)\n",
    "\n",
    "        self.dropout = nn.Dropout(dropout)\n",
    "        self.register_buffer('pos_embedding', pos_embedding)\n",
    "\n",
    "    def forward(self, token_embedding: Tensor):\n",
    "        return self.dropout(token_embedding + self.pos_embedding[:token_embedding.size(0), :])\n",
    "\n",
    "# helper Module to convert tensor of input indices into corresponding tensor of token embeddings\n",
    "class TokenEmbedding(nn.Module):\n",
    "    def __init__(self, vocab_size: int, emb_size):\n",
    "        super(TokenEmbedding, self).__init__()\n",
    "        self.embedding = nn.Embedding(vocab_size, emb_size)\n",
    "        self.emb_size = emb_size\n",
    "\n",
    "    def forward(self, tokens: Tensor):\n",
    "        return self.embedding(tokens.long()) * math.sqrt(self.emb_size)\n",
    "\n",
    "# Seq2Seq Network \n",
    "class Seq2SeqTransformer(nn.Module):\n",
    "    def __init__(self,\n",
    "                 num_encoder_layers: int,\n",
    "                 num_decoder_layers: int,\n",
    "                 emb_size: int,\n",
    "                 nhead: int,\n",
    "                 src_vocab_size: int,\n",
    "                 tgt_vocab_size: int,\n",
    "                 dim_feedforward: int = 512,\n",
    "                 dropout: float = 0.1):\n",
    "        super(Seq2SeqTransformer, self).__init__()\n",
    "        self.transformer = Transformer(d_model=emb_size,\n",
    "                                       nhead=nhead,\n",
    "                                       num_encoder_layers=num_encoder_layers,\n",
    "                                       num_decoder_layers=num_decoder_layers,\n",
    "                                       dim_feedforward=dim_feedforward,\n",
    "                                       dropout=dropout)\n",
    "        self.generator = nn.Linear(emb_size, tgt_vocab_size)\n",
    "        self.src_tok_emb = TokenEmbedding(src_vocab_size, emb_size)\n",
    "        self.tgt_tok_emb = TokenEmbedding(tgt_vocab_size, emb_size)\n",
    "        self.positional_encoding = PositionEmbedding(\n",
    "            emb_size)\n",
    "\n",
    "    def forward(self,\n",
    "                src: Tensor,\n",
    "                trg: Tensor,\n",
    "                src_mask: Tensor,\n",
    "                tgt_mask: Tensor,\n",
    "                src_padding_mask: Tensor,\n",
    "                tgt_padding_mask: Tensor,\n",
    "                memory_key_padding_mask: Tensor):\n",
    "        src_emb = self.positional_encoding(self.src_tok_emb(src))\n",
    "        tgt_emb = self.positional_encoding(self.tgt_tok_emb(trg))\n",
    "        outs = self.transformer(src_emb, tgt_emb, src_mask, tgt_mask, None, \n",
    "                                src_padding_mask, tgt_padding_mask, memory_key_padding_mask)\n",
    "        return self.generator(outs)\n",
    "\n",
    "    def encode(self, src: Tensor, src_mask: Tensor):\n",
    "        return self.transformer.encoder(self.positional_encoding(\n",
    "                            self.src_tok_emb(src)), src_mask)\n",
    "\n",
    "    def decode(self, tgt: Tensor, memory: Tensor, tgt_mask: Tensor):\n",
    "        return self.transformer.decoder(self.positional_encoding(\n",
    "                          self.tgt_tok_emb(tgt)), memory,\n",
    "                          tgt_mask)"
   ]
  },
  {
   "cell_type": "markdown",
   "metadata": {
    "id": "AoRbQezAwRMM"
   },
   "source": [
    "During training, we need a subsequent word mask that will prevent model to look into\n",
    "the future words when making predictions. We will also need masks to hide\n",
    "source and target padding tokens. Below, let's define a function that will take care of both. \n",
    "\n",
    "\n"
   ]
  },
  {
   "cell_type": "code",
   "execution_count": 8,
   "metadata": {
    "id": "unF2JsfewRMN"
   },
   "outputs": [],
   "source": [
    "def generate_square_subsequent_mask(sz):\n",
    "    mask = (torch.triu(torch.ones((sz, sz), device=DEVICE)) == 1).transpose(0, 1)\n",
    "    mask = mask.float().masked_fill(mask == 0, float('-inf')).masked_fill(mask == 1, float(0.0))\n",
    "    return mask\n",
    "\n",
    "\n",
    "def create_mask(src, tgt):\n",
    "    src_seq_len = src.shape[0]\n",
    "    tgt_seq_len = tgt.shape[0]\n",
    "\n",
    "    tgt_mask = generate_square_subsequent_mask(tgt_seq_len)\n",
    "    src_mask = torch.zeros((src_seq_len, src_seq_len),device=DEVICE).type(torch.bool)\n",
    "\n",
    "    src_padding_mask = (src == PAD_IDX).transpose(0, 1)\n",
    "    tgt_padding_mask = (tgt == PAD_IDX).transpose(0, 1)\n",
    "    return src_mask, tgt_mask, src_padding_mask, tgt_padding_mask"
   ]
  },
  {
   "cell_type": "markdown",
   "metadata": {
    "id": "vH2a2irZwRMO"
   },
   "source": [
    "Let's now define the parameters of our model and instantiate the same. Below, we also \n",
    "define our loss function which is the cross-entropy loss and the optmizer used for training.\n",
    "\n",
    "\n"
   ]
  },
  {
   "cell_type": "code",
   "execution_count": 9,
   "metadata": {
    "id": "_DIQF9vwwRMP"
   },
   "outputs": [],
   "source": [
    "torch.manual_seed(0)\n",
    "\n",
    "SRC_VOCAB_SIZE = len(vocab_transform[SRC_LANGUAGE])\n",
    "TGT_VOCAB_SIZE = len(vocab_transform[TGT_LANGUAGE])\n",
    "\n",
    "EMB_SIZE = 512\n",
    "# EMB_SIZE = 128\n",
    "# EMB_SIZE = 64\n",
    "\n",
    "NHEAD = 8\n",
    "\n",
    "FFN_HID_DIM = 512\n",
    "# FFN_HID_DIM = 128\n",
    "# FFN_HID_DIM = 64\n",
    "\n",
    "BATCH_SIZE = 32\n",
    "# BATCH_SIZE = 40\n",
    "\n",
    "NUM_ENCODER_LAYERS = 3\n",
    "NUM_DECODER_LAYERS = 3\n",
    "\n",
    "transformer = Seq2SeqTransformer(NUM_ENCODER_LAYERS, NUM_DECODER_LAYERS, EMB_SIZE, \n",
    "                                 NHEAD, SRC_VOCAB_SIZE, TGT_VOCAB_SIZE, FFN_HID_DIM)\n",
    "\n",
    "for p in transformer.parameters():\n",
    "    if p.dim() > 1:\n",
    "        nn.init.xavier_uniform_(p)\n",
    "\n",
    "transformer = transformer.to(DEVICE)\n",
    "\n",
    "loss_fn = torch.nn.CrossEntropyLoss(ignore_index=PAD_IDX)\n",
    "\n",
    "optimizer = torch.optim.Adam(transformer.parameters(), lr=0.0001, betas=(0.9, 0.98), eps=1e-9)"
   ]
  },
  {
   "cell_type": "code",
   "execution_count": 10,
   "metadata": {
    "colab": {
     "base_uri": "https://localhost:8080/"
    },
    "id": "alvTPKm1wRMQ",
    "outputId": "1c930463-3b13-45ab-a3dc-8cdb69945078"
   },
   "outputs": [
    {
     "data": {
      "text/plain": [
       "85027047"
      ]
     },
     "execution_count": 10,
     "metadata": {},
     "output_type": "execute_result"
    }
   ],
   "source": [
    "import numpy as np\n",
    "model_parameters = filter(lambda p: p.requires_grad, transformer.parameters())\n",
    "params = sum([np.prod(transformer.size()) for transformer in model_parameters])\n",
    "params"
   ]
  },
  {
   "cell_type": "code",
   "execution_count": 11,
   "metadata": {
    "colab": {
     "base_uri": "https://localhost:8080/"
    },
    "id": "pNtAqwmowRMQ",
    "outputId": "c3ade393-315a-48c5-dc07-240db3227dc0"
   },
   "outputs": [
    {
     "data": {
      "text/plain": [
       "(42548, 49383)"
      ]
     },
     "execution_count": 11,
     "metadata": {},
     "output_type": "execute_result"
    }
   ],
   "source": [
    "SRC_VOCAB_SIZE, TGT_VOCAB_SIZE"
   ]
  },
  {
   "cell_type": "markdown",
   "metadata": {
    "id": "UmabUtoewRMR"
   },
   "source": [
    "Collation\n",
    "---------\n",
    "\n",
    "As seen in the ``Data Sourcing and Processing`` section, our data iterator yields a pair of raw strings. \n",
    "We need to convert these string pairs into the batched tensors that can be processed by our ``Seq2Seq`` network \n",
    "defined previously. Below we define our collate function that convert batch of raw strings into batch tensors that\n",
    "can be fed directly into our model.   \n",
    "\n",
    "\n"
   ]
  },
  {
   "cell_type": "code",
   "execution_count": 12,
   "metadata": {
    "id": "x2N0VuotwRMR"
   },
   "outputs": [],
   "source": [
    "from torch.nn.utils.rnn import pad_sequence\n",
    "\n",
    "# helper function to club together sequential operations\n",
    "def sequential_transforms(*transforms):\n",
    "    def func(txt_input):\n",
    "        for transform in transforms:\n",
    "            txt_input = transform(txt_input)\n",
    "        return txt_input\n",
    "    return func\n",
    "\n",
    "# function to add BOS/EOS and create tensor for input sequence indices\n",
    "def tensor_transform(token_ids: List[int]):\n",
    "    return torch.cat((torch.tensor([BOS_IDX]), \n",
    "                      torch.tensor(token_ids), \n",
    "                      torch.tensor([EOS_IDX])))\n",
    "\n",
    "# src and tgt language text transforms to convert raw strings into tensors indices\n",
    "text_transform = {}\n",
    "for ln in [SRC_LANGUAGE, TGT_LANGUAGE]:\n",
    "    text_transform[ln] = sequential_transforms(token_transform[ln], #Tokenization\n",
    "                                               vocab_transform[ln], #Numericalization\n",
    "                                               tensor_transform) # Add BOS/EOS and create tensor\n",
    "\n",
    "\n",
    "# function to collate data samples into batch tesors\n",
    "def collate_fn(batch):\n",
    "    src_batch, tgt_batch = [], []\n",
    "    for src_sample, tgt_sample in batch:\n",
    "        src_batch.append(text_transform[SRC_LANGUAGE](src_sample.rstrip(\"\\n\")))\n",
    "        tgt_batch.append(text_transform[TGT_LANGUAGE](tgt_sample.rstrip(\"\\n\")))\n",
    "\n",
    "    src_batch = pad_sequence(src_batch, padding_value=PAD_IDX)\n",
    "    tgt_batch = pad_sequence(tgt_batch, padding_value=PAD_IDX)\n",
    "    return src_batch, tgt_batch"
   ]
  },
  {
   "cell_type": "markdown",
   "metadata": {
    "id": "TpB7F-gtwRMS"
   },
   "source": [
    "Let's define training and evaluation loop that will be called for each \n",
    "epoch.\n",
    "\n",
    "\n"
   ]
  },
  {
   "cell_type": "code",
   "execution_count": 13,
   "metadata": {
    "id": "59XQox9CwRMT"
   },
   "outputs": [],
   "source": [
    "from torch.utils.data import DataLoader\n",
    "\n",
    "def train_epoch(model, optimizer, train_iter):\n",
    "    model.train()\n",
    "    losses = 0\n",
    "    \n",
    "    # train_iter = ZhEnDataset(split='train', start=15000, end=65000)\n",
    "    train_iter.resample()\n",
    "\n",
    "    train_dataloader = DataLoader(train_iter, batch_size=BATCH_SIZE, collate_fn=collate_fn)\n",
    "    \n",
    "    for src, tgt in train_dataloader:\n",
    "        # print(src.shape)\n",
    "        # print(tgt.shape)\n",
    "        src = src.to(DEVICE)\n",
    "        tgt = tgt.to(DEVICE)\n",
    "\n",
    "        tgt_input = tgt[:-1, :]\n",
    "\n",
    "        src_mask, tgt_mask, src_padding_mask, tgt_padding_mask = create_mask(src, tgt_input)\n",
    "\n",
    "        logits = model(src, tgt_input, src_mask, tgt_mask,src_padding_mask, tgt_padding_mask, src_padding_mask)\n",
    "\n",
    "        optimizer.zero_grad()\n",
    "\n",
    "        tgt_out = tgt[1:, :]\n",
    "        loss = loss_fn(logits.reshape(-1, logits.shape[-1]), tgt_out.reshape(-1))\n",
    "        loss.backward()\n",
    "\n",
    "        optimizer.step()\n",
    "        losses += loss.item()\n",
    "\n",
    "    return losses / len(train_dataloader)\n",
    "\n",
    "\n",
    "def evaluate(model):\n",
    "    model.eval()\n",
    "    losses = 0\n",
    "\n",
    "    val_iter = ZhEnDataset(split='valid', start=15000, end=25000)\n",
    "    val_dataloader = DataLoader(val_iter, batch_size=BATCH_SIZE, collate_fn=collate_fn)\n",
    "\n",
    "    for src, tgt in val_dataloader:\n",
    "        src = src.to(DEVICE)\n",
    "        tgt = tgt.to(DEVICE)\n",
    "\n",
    "        tgt_input = tgt[:-1, :]\n",
    "\n",
    "        src_mask, tgt_mask, src_padding_mask, tgt_padding_mask = create_mask(src, tgt_input)\n",
    "\n",
    "        logits = model(src, tgt_input, src_mask, tgt_mask,src_padding_mask, tgt_padding_mask, src_padding_mask)\n",
    "        \n",
    "        tgt_out = tgt[1:, :]\n",
    "        loss = loss_fn(logits.reshape(-1, logits.shape[-1]), tgt_out.reshape(-1))\n",
    "        losses += loss.item()\n",
    "\n",
    "    return losses / len(val_dataloader)"
   ]
  },
  {
   "cell_type": "markdown",
   "metadata": {
    "id": "ew5Biw2LwRMU"
   },
   "source": [
    "Now we have all the ingredients to train our model. Let's do it!\n",
    "\n",
    "\n"
   ]
  },
  {
   "cell_type": "code",
   "execution_count": 15,
   "metadata": {
    "colab": {
     "base_uri": "https://localhost:8080/"
    },
    "id": "joxR16FLwRMV",
    "outputId": "2e7c336b-6b03-48a7-ca0c-a16139f7cd99",
    "tags": []
   },
   "outputs": [
    {
     "name": "stdout",
     "output_type": "stream",
     "text": [
      "Epoch: 1, Train loss: 5.618, Val loss: 5.492, Epoch time = 264.943s\n",
      "Epoch: 2, Train loss: 5.502, Val loss: 5.379, Epoch time = 264.303s\n",
      "Epoch: 3, Train loss: 5.411, Val loss: 5.296, Epoch time = 263.047s\n",
      "Epoch: 4, Train loss: 5.316, Val loss: 5.210, Epoch time = 264.250s\n",
      "Epoch: 5, Train loss: 5.245, Val loss: 5.135, Epoch time = 265.275s\n",
      "Epoch: 6, Train loss: 5.188, Val loss: 5.083, Epoch time = 265.897s\n",
      "Epoch: 7, Train loss: 5.142, Val loss: 5.034, Epoch time = 265.940s\n",
      "Epoch: 8, Train loss: 5.087, Val loss: 4.978, Epoch time = 267.960s\n",
      "Epoch: 9, Train loss: 5.050, Val loss: 4.936, Epoch time = 265.143s\n",
      "Epoch: 10, Train loss: 5.019, Val loss: 4.899, Epoch time = 267.112s\n",
      "Epoch: 11, Train loss: 4.965, Val loss: 4.850, Epoch time = 265.850s\n",
      "Epoch: 12, Train loss: 4.927, Val loss: 4.814, Epoch time = 265.323s\n",
      "Epoch: 13, Train loss: 4.886, Val loss: 4.787, Epoch time = 258.148s\n",
      "Epoch: 14, Train loss: 4.863, Val loss: 4.763, Epoch time = 259.955s\n",
      "Epoch: 15, Train loss: 4.830, Val loss: 4.732, Epoch time = 260.891s\n",
      "Epoch: 16, Train loss: 4.804, Val loss: 4.712, Epoch time = 259.729s\n",
      "Epoch: 17, Train loss: 4.789, Val loss: 4.684, Epoch time = 261.434s\n",
      "Epoch: 18, Train loss: 4.770, Val loss: 4.666, Epoch time = 261.000s\n",
      "Epoch: 19, Train loss: 4.749, Val loss: 4.651, Epoch time = 261.527s\n",
      "Epoch: 20, Train loss: 4.735, Val loss: 4.618, Epoch time = 260.280s\n",
      "Epoch: 21, Train loss: 4.707, Val loss: 4.606, Epoch time = 263.231s\n",
      "Epoch: 22, Train loss: 4.678, Val loss: 4.580, Epoch time = 260.867s\n",
      "Epoch: 23, Train loss: 4.671, Val loss: 4.572, Epoch time = 261.770s\n",
      "Epoch: 24, Train loss: 4.653, Val loss: 4.556, Epoch time = 262.000s\n",
      "Epoch: 25, Train loss: 4.636, Val loss: 4.535, Epoch time = 256.641s\n",
      "Epoch: 26, Train loss: 4.624, Val loss: 4.515, Epoch time = 231.069s\n",
      "Epoch: 27, Train loss: 4.613, Val loss: 4.505, Epoch time = 231.088s\n",
      "Epoch: 28, Train loss: 4.604, Val loss: 4.492, Epoch time = 231.295s\n",
      "Epoch: 29, Train loss: 4.585, Val loss: 4.483, Epoch time = 231.077s\n",
      "Epoch: 30, Train loss: 4.567, Val loss: 4.463, Epoch time = 231.897s\n",
      "Epoch: 31, Train loss: 4.553, Val loss: 4.455, Epoch time = 231.371s\n",
      "Epoch: 32, Train loss: 4.546, Val loss: 4.447, Epoch time = 229.213s\n",
      "Epoch: 33, Train loss: 4.533, Val loss: 4.434, Epoch time = 229.889s\n",
      "Epoch: 34, Train loss: 4.531, Val loss: 4.422, Epoch time = 229.833s\n",
      "Epoch: 35, Train loss: 4.510, Val loss: 4.416, Epoch time = 230.445s\n",
      "Epoch: 36, Train loss: 4.506, Val loss: 4.402, Epoch time = 231.050s\n",
      "Epoch: 37, Train loss: 4.497, Val loss: 4.387, Epoch time = 229.705s\n",
      "Epoch: 38, Train loss: 4.475, Val loss: 4.378, Epoch time = 228.897s\n",
      "Epoch: 39, Train loss: 4.476, Val loss: 4.373, Epoch time = 230.548s\n",
      "Epoch: 40, Train loss: 4.468, Val loss: 4.363, Epoch time = 229.644s\n",
      "Epoch: 41, Train loss: 4.462, Val loss: 4.363, Epoch time = 229.939s\n",
      "Epoch: 42, Train loss: 4.451, Val loss: 4.359, Epoch time = 230.051s\n",
      "Epoch: 43, Train loss: 4.449, Val loss: 4.344, Epoch time = 230.783s\n",
      "Epoch: 44, Train loss: 4.431, Val loss: 4.334, Epoch time = 228.554s\n",
      "Epoch: 45, Train loss: 4.437, Val loss: 4.325, Epoch time = 230.330s\n",
      "Epoch: 46, Train loss: 4.425, Val loss: 4.320, Epoch time = 229.194s\n",
      "Epoch: 47, Train loss: 4.408, Val loss: 4.312, Epoch time = 230.343s\n",
      "Epoch: 48, Train loss: 4.410, Val loss: 4.298, Epoch time = 230.734s\n",
      "Epoch: 49, Train loss: 4.397, Val loss: 4.295, Epoch time = 228.316s\n",
      "Epoch: 50, Train loss: 4.395, Val loss: 4.288, Epoch time = 230.612s\n",
      "Epoch: 51, Train loss: 4.391, Val loss: 4.282, Epoch time = 231.033s\n",
      "Epoch: 52, Train loss: 4.387, Val loss: 4.277, Epoch time = 230.185s\n",
      "Epoch: 53, Train loss: 4.372, Val loss: 4.264, Epoch time = 231.109s\n",
      "Epoch: 54, Train loss: 4.371, Val loss: 4.260, Epoch time = 229.605s\n",
      "Epoch: 55, Train loss: 4.362, Val loss: 4.256, Epoch time = 231.389s\n",
      "Epoch: 56, Train loss: 4.348, Val loss: 4.247, Epoch time = 229.927s\n",
      "Epoch: 57, Train loss: 4.338, Val loss: 4.243, Epoch time = 231.438s\n",
      "Epoch: 58, Train loss: 4.337, Val loss: 4.238, Epoch time = 230.024s\n",
      "Epoch: 59, Train loss: 4.324, Val loss: 4.233, Epoch time = 229.640s\n",
      "Epoch: 60, Train loss: 4.321, Val loss: 4.223, Epoch time = 230.422s\n"
     ]
    }
   ],
   "source": [
    "from timeit import default_timer as timer\n",
    "NUM_EPOCHS = 60\n",
    "train_iter = BaggingDataset(size=25000)\n",
    "\n",
    "for epoch in range(1, NUM_EPOCHS+1):\n",
    "    start_time = timer()\n",
    "    train_loss = train_epoch(transformer, optimizer, train_iter)\n",
    "    end_time = timer()\n",
    "    val_loss = evaluate(transformer)\n",
    "    print((f\"Epoch: {epoch}, Train loss: {train_loss:.3f}, Val loss: {val_loss:.3f}, \"f\"Epoch time = {(end_time - start_time):.3f}s\"))\n",
    "\n",
    "\n",
    "# function to generate output sequence using greedy algorithm \n",
    "def greedy_decode(model, src, src_mask, max_len, start_symbol):\n",
    "    src = src.to(DEVICE)\n",
    "    src_mask = src_mask.to(DEVICE)\n",
    "\n",
    "    memory = model.encode(src, src_mask)\n",
    "    ys = torch.ones(1, 1).fill_(start_symbol).type(torch.long).to(DEVICE)\n",
    "    for i in range(max_len-1):\n",
    "        memory = memory.to(DEVICE)\n",
    "        tgt_mask = (generate_square_subsequent_mask(ys.size(0))\n",
    "                    .type(torch.bool)).to(DEVICE)\n",
    "        out = model.decode(ys, memory, tgt_mask)\n",
    "        out = out.transpose(0, 1)\n",
    "        prob = model.generator(out[:, -1])\n",
    "        _, next_word = torch.max(prob, dim=1)\n",
    "        next_word = next_word.item()\n",
    "\n",
    "        ys = torch.cat([ys,\n",
    "                        torch.ones(1, 1).type_as(src.data).fill_(next_word)], dim=0)\n",
    "        if next_word == EOS_IDX:\n",
    "            break\n",
    "    return ys\n",
    "\n",
    "\n",
    "# actual function to translate input sentence into target language\n",
    "def translate(model: torch.nn.Module, src_sentence: str):\n",
    "    model.eval()\n",
    "    src = text_transform[SRC_LANGUAGE](src_sentence).view(-1, 1)\n",
    "    num_tokens = src.shape[0]\n",
    "    src_mask = (torch.zeros(num_tokens, num_tokens)).type(torch.bool)\n",
    "    tgt_tokens = greedy_decode(\n",
    "        model,  src, src_mask, max_len=num_tokens + 5, start_symbol=BOS_IDX).flatten()\n",
    "    return \" \".join(vocab_transform[TGT_LANGUAGE].lookup_tokens(list(tgt_tokens.cpu().numpy()))).replace(\"<bos>\", \"\").replace(\"<eos>\", \"\")"
   ]
  },
  {
   "cell_type": "code",
   "execution_count": 16,
   "metadata": {
    "colab": {
     "base_uri": "https://localhost:8080/"
    },
    "id": "GohnzHVrwRMW",
    "outputId": "3eaca705-a804-4405-c18f-b0e692c29019"
   },
   "outputs": [
    {
     "name": "stdout",
     "output_type": "stream",
     "text": [
      "Epoch: 1, Train loss: 4.321, Val loss: 4.223, Epoch time = 230.446s\n",
      "Epoch: 2, Train loss: 4.311, Val loss: 4.210, Epoch time = 230.586s\n",
      "Epoch: 3, Train loss: 4.310, Val loss: 4.206, Epoch time = 229.093s\n",
      "Epoch: 4, Train loss: 4.298, Val loss: 4.211, Epoch time = 230.587s\n",
      "Epoch: 5, Train loss: 4.308, Val loss: 4.193, Epoch time = 230.136s\n",
      "Epoch: 6, Train loss: 4.292, Val loss: 4.186, Epoch time = 229.954s\n",
      "Epoch: 7, Train loss: 4.282, Val loss: 4.179, Epoch time = 228.183s\n",
      "Epoch: 8, Train loss: 4.280, Val loss: 4.168, Epoch time = 230.863s\n",
      "Epoch: 9, Train loss: 4.269, Val loss: 4.164, Epoch time = 229.469s\n",
      "Epoch: 10, Train loss: 4.251, Val loss: 4.160, Epoch time = 229.337s\n"
     ]
    }
   ],
   "source": [
    "for epoch in range(1, 11):\n",
    "    start_time = timer()\n",
    "    train_loss = train_epoch(transformer, optimizer, train_iter)\n",
    "    end_time = timer()\n",
    "    val_loss = evaluate(transformer)\n",
    "    print((f\"Epoch: {epoch}, Train loss: {train_loss:.3f}, Val loss: {val_loss:.3f}, \"f\"Epoch time = {(end_time - start_time):.3f}s\"))"
   ]
  },
  {
   "cell_type": "code",
   "execution_count": 20,
   "metadata": {},
   "outputs": [
    {
     "name": "stdout",
     "output_type": "stream",
     "text": [
      "Epoch: 1, Train loss: 4.261, Val loss: 4.167, Epoch time = 247.087s\n",
      "Epoch: 2, Train loss: 4.252, Val loss: 4.148, Epoch time = 244.961s\n",
      "Epoch: 3, Train loss: 4.251, Val loss: 4.151, Epoch time = 245.715s\n",
      "Epoch: 4, Train loss: 4.252, Val loss: 4.139, Epoch time = 244.917s\n",
      "Epoch: 5, Train loss: 4.245, Val loss: 4.138, Epoch time = 245.211s\n",
      "Epoch: 6, Train loss: 4.229, Val loss: 4.141, Epoch time = 244.054s\n",
      "Epoch: 7, Train loss: 4.238, Val loss: 4.128, Epoch time = 245.910s\n",
      "Epoch: 8, Train loss: 4.222, Val loss: 4.123, Epoch time = 246.503s\n",
      "Epoch: 9, Train loss: 4.219, Val loss: 4.124, Epoch time = 244.251s\n",
      "Epoch: 10, Train loss: 4.211, Val loss: 4.124, Epoch time = 243.484s\n",
      "Epoch: 11, Train loss: 4.212, Val loss: 4.119, Epoch time = 245.696s\n",
      "Epoch: 12, Train loss: 4.210, Val loss: 4.112, Epoch time = 247.243s\n",
      "Epoch: 13, Train loss: 4.207, Val loss: 4.113, Epoch time = 245.407s\n",
      "Epoch: 14, Train loss: 4.200, Val loss: 4.106, Epoch time = 246.102s\n",
      "Epoch: 15, Train loss: 4.192, Val loss: 4.097, Epoch time = 243.678s\n",
      "Epoch: 16, Train loss: 4.202, Val loss: 4.101, Epoch time = 241.522s\n",
      "Epoch: 17, Train loss: 4.198, Val loss: 4.089, Epoch time = 240.770s\n",
      "Epoch: 18, Train loss: 4.177, Val loss: 4.085, Epoch time = 239.804s\n",
      "Epoch: 19, Train loss: 4.180, Val loss: 4.087, Epoch time = 239.666s\n",
      "Epoch: 20, Train loss: 4.183, Val loss: 4.078, Epoch time = 240.175s\n",
      "Epoch: 21, Train loss: 4.183, Val loss: 4.078, Epoch time = 240.018s\n",
      "Epoch: 22, Train loss: 4.176, Val loss: 4.073, Epoch time = 240.516s\n",
      "Epoch: 23, Train loss: 4.171, Val loss: 4.069, Epoch time = 241.598s\n",
      "Epoch: 24, Train loss: 4.169, Val loss: 4.064, Epoch time = 242.246s\n",
      "Epoch: 25, Train loss: 4.155, Val loss: 4.065, Epoch time = 240.385s\n",
      "Epoch: 26, Train loss: 4.153, Val loss: 4.055, Epoch time = 242.429s\n",
      "Epoch: 27, Train loss: 4.162, Val loss: 4.053, Epoch time = 241.937s\n",
      "Epoch: 28, Train loss: 4.155, Val loss: 4.054, Epoch time = 242.196s\n",
      "Epoch: 29, Train loss: 4.154, Val loss: 4.045, Epoch time = 242.843s\n",
      "Epoch: 30, Train loss: 4.151, Val loss: 4.046, Epoch time = 242.143s\n",
      "Epoch: 31, Train loss: 4.144, Val loss: 4.042, Epoch time = 241.879s\n",
      "Epoch: 32, Train loss: 4.147, Val loss: 4.046, Epoch time = 242.418s\n",
      "Epoch: 33, Train loss: 4.137, Val loss: 4.034, Epoch time = 240.003s\n",
      "Epoch: 34, Train loss: 4.134, Val loss: 4.032, Epoch time = 241.458s\n",
      "Epoch: 35, Train loss: 4.134, Val loss: 4.028, Epoch time = 241.046s\n",
      "Epoch: 36, Train loss: 4.118, Val loss: 4.028, Epoch time = 241.501s\n",
      "Epoch: 37, Train loss: 4.115, Val loss: 4.024, Epoch time = 242.607s\n",
      "Epoch: 38, Train loss: 4.109, Val loss: 4.022, Epoch time = 239.847s\n",
      "Epoch: 39, Train loss: 4.114, Val loss: 4.017, Epoch time = 241.280s\n",
      "Epoch: 40, Train loss: 4.112, Val loss: 4.017, Epoch time = 242.220s\n",
      "Epoch: 41, Train loss: 4.105, Val loss: 4.016, Epoch time = 243.562s\n",
      "Epoch: 42, Train loss: 4.108, Val loss: 4.006, Epoch time = 243.945s\n",
      "Epoch: 43, Train loss: 4.111, Val loss: 4.008, Epoch time = 244.163s\n",
      "Epoch: 44, Train loss: 4.099, Val loss: 4.004, Epoch time = 242.683s\n",
      "Epoch: 45, Train loss: 4.097, Val loss: 4.001, Epoch time = 240.608s\n",
      "Epoch: 46, Train loss: 4.098, Val loss: 3.995, Epoch time = 240.387s\n",
      "Epoch: 47, Train loss: 4.082, Val loss: 3.995, Epoch time = 241.113s\n",
      "Epoch: 48, Train loss: 4.099, Val loss: 3.989, Epoch time = 238.468s\n",
      "Epoch: 49, Train loss: 4.084, Val loss: 3.983, Epoch time = 237.071s\n"
     ]
    }
   ],
   "source": [
    "for epoch in range(1, 50):\n",
    "    start_time = timer()\n",
    "    train_loss = train_epoch(transformer, optimizer, train_iter)\n",
    "    end_time = timer()\n",
    "    val_loss = evaluate(transformer)\n",
    "    print((f\"Epoch: {epoch}, Train loss: {train_loss:.3f}, Val loss: {val_loss:.3f}, \"f\"Epoch time = {(end_time - start_time):.3f}s\"))"
   ]
  },
  {
   "cell_type": "code",
   "execution_count": 22,
   "metadata": {
    "colab": {
     "base_uri": "https://localhost:8080/"
    },
    "id": "_Zf0M2D7wRMW",
    "outputId": "3293aa35-ec98-463b-c586-d84574fcf1e5"
   },
   "outputs": [
    {
     "name": "stdout",
     "output_type": "stream",
     "text": [
      " 注意 是 所有 需要 的 。 \n",
      " 你 怎么 做 ？ \n",
      " 从 英语 翻译 到 英语 \n",
      " 请 将 这 份 代码 复制 到 您 的 应用 程序 中 ， 并 将 它 复制 到 您 的\n",
      " 请 继续 选择 你 的 学校 账户 ， 请 继续 你 的 帐户 。 \n",
      " 帮助 您 理解 项目 中 的 人们 对 <unk> <unk> <unk> <unk> <unk> <unk> <unk> <unk> <unk> 感兴趣 。 \n",
      " 当 你 的 实时 移动 传感器 或 <unk> <unk> <unk> <unk> <unk> 时 ， 请 通知 游客 。 \n"
     ]
    }
   ],
   "source": [
    "print(translate(transformer, \"Attention is all you need.\"))\n",
    "print(translate(transformer, \"How are you doing?\"))\n",
    "print(translate(transformer, \"Translate this from English to Chinese\"))\n",
    "print(translate(transformer, \"Please copy this code, switch to your application and paste it there.\"))\n",
    "print(translate(transformer, \"To continue signing in to your Crowdmark account, please select your school.\"))\n",
    "print(translate(transformer, \"Help people interested in this repository understand your project by adding a README.\"))\n",
    "print(translate(transformer, \"Get notified in real-time when visitors press your doorbell or trigger the built-in motion sensors.\"))"
   ]
  },
  {
   "cell_type": "markdown",
   "metadata": {
    "id": "DTorTDFBwRMX"
   },
   "source": [
    "References\n",
    "----------\n",
    "\n",
    "1. Attention is all you need paper.\n",
    "   https://papers.nips.cc/paper/2017/file/3f5ee243547dee91fbd053c1c4a845aa-Paper.pdf\n",
    "2. The annotated transformer. https://nlp.seas.harvard.edu/2018/04/03/attention.html#positional-encoding\n",
    "\n"
   ]
  },
  {
   "cell_type": "code",
   "execution_count": 23,
   "metadata": {
    "id": "StNeeejewRMY"
   },
   "outputs": [],
   "source": [
    "PATH = \"./models/bagging-150k-512-8-512ebmedding.pt\"\n",
    "torch.save(transformer.state_dict(), PATH)"
   ]
  },
  {
   "cell_type": "code",
   "execution_count": 24,
   "metadata": {
    "id": "1hoVWqF4wRMY"
   },
   "outputs": [
    {
     "data": {
      "text/plain": [
       "<All keys matched successfully>"
      ]
     },
     "execution_count": 24,
     "metadata": {},
     "output_type": "execute_result"
    }
   ],
   "source": [
    "PATH = \"./models/bagging-150k-512-8-512ebmedding.pt\"\n",
    "transformer.load_state_dict(torch.load(PATH))"
   ]
  },
  {
   "cell_type": "code",
   "execution_count": null,
   "metadata": {},
   "outputs": [],
   "source": []
  }
 ],
 "metadata": {
  "accelerator": "GPU",
  "colab": {
   "name": "translation_transformer-zh-bagging.ipynb",
   "provenance": []
  },
  "interpreter": {
   "hash": "4873a7689abbfe95ed7a782bdc9fbe47e51b46b20bbffcabe5affe94a27c270b"
  },
  "kernelspec": {
   "display_name": "Python 3",
   "language": "python",
   "name": "python3"
  },
  "language_info": {
   "codemirror_mode": {
    "name": "ipython",
    "version": 3
   },
   "file_extension": ".py",
   "mimetype": "text/x-python",
   "name": "python",
   "nbconvert_exporter": "python",
   "pygments_lexer": "ipython3",
   "version": "3.8.5"
  }
 },
 "nbformat": 4,
 "nbformat_minor": 1
}
